{
 "cells": [
  {
   "cell_type": "code",
   "execution_count": null,
   "id": "00a7a874",
   "metadata": {},
   "outputs": [],
   "source": [
    "class Animal():\n",
    "      def __init__(self,name,category):\n",
    "            self.name=name\n",
    "            self.category=category\n",
    "class Bird(Animal):\n",
    "      def  __init__(self,nm):\n",
    "            self.nm=nm\n",
    "      "
   ]
  },
  {
   "cell_type": "code",
   "execution_count": null,
   "id": "8f523d32",
   "metadata": {},
   "outputs": [],
   "source": [
    "\n"
   ]
  },
  {
   "cell_type": "code",
   "execution_count": 113,
   "id": "ecc25939",
   "metadata": {},
   "outputs": [],
   "source": [
    "b1=Bird(\"eagle\")"
   ]
  },
  {
   "cell_type": "code",
   "execution_count": 114,
   "id": "39532d06",
   "metadata": {},
   "outputs": [
    {
     "data": {
      "text/plain": [
       "'eagle'"
      ]
     },
     "execution_count": 114,
     "metadata": {},
     "output_type": "execute_result"
    }
   ],
   "source": [
    "b1.nm"
   ]
  },
  {
   "cell_type": "code",
   "execution_count": 117,
   "id": "287cdf27",
   "metadata": {},
   "outputs": [],
   "source": [
    "b1.category=\"bird\""
   ]
  },
  {
   "cell_type": "code",
   "execution_count": 118,
   "id": "4864aa9f",
   "metadata": {},
   "outputs": [],
   "source": [
    "b1.name=\"sparrow\""
   ]
  },
  {
   "cell_type": "code",
   "execution_count": 120,
   "id": "89ee9c47",
   "metadata": {},
   "outputs": [],
   "source": [
    "a1=Animal(\"sea\",\"fish\")"
   ]
  },
  {
   "cell_type": "code",
   "execution_count": 124,
   "id": "f231e669",
   "metadata": {},
   "outputs": [],
   "source": [
    "a1.nm=\"ansna\""
   ]
  },
  {
   "cell_type": "code",
   "execution_count": 122,
   "id": "a590e8f3",
   "metadata": {},
   "outputs": [
    {
     "data": {
      "text/plain": [
       "'sea'"
      ]
     },
     "execution_count": 122,
     "metadata": {},
     "output_type": "execute_result"
    }
   ],
   "source": [
    "a1.name"
   ]
  },
  {
   "cell_type": "code",
   "execution_count": 126,
   "id": "05ff284e",
   "metadata": {},
   "outputs": [
    {
     "data": {
      "text/plain": [
       "'ansna'"
      ]
     },
     "execution_count": 126,
     "metadata": {},
     "output_type": "execute_result"
    }
   ],
   "source": [
    "a1.nm"
   ]
  },
  {
   "cell_type": "code",
   "execution_count": null,
   "id": "c83bdb13",
   "metadata": {},
   "outputs": [],
   "source": []
  }
 ],
 "metadata": {
  "kernelspec": {
   "display_name": "myvenv",
   "language": "python",
   "name": "python3"
  },
  "language_info": {
   "codemirror_mode": {
    "name": "ipython",
    "version": 3
   },
   "file_extension": ".py",
   "mimetype": "text/x-python",
   "name": "python",
   "nbconvert_exporter": "python",
   "pygments_lexer": "ipython3",
   "version": "3.12.0"
  }
 },
 "nbformat": 4,
 "nbformat_minor": 5
}
